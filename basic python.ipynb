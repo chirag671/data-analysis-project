{
 "cells": [
  {
   "cell_type": "code",
   "execution_count": 2,
   "id": "e2680356",
   "metadata": {},
   "outputs": [
    {
     "data": {
      "text/plain": [
       "[1, 2, 3, 5, 4, 7, 6, 'Chirag', True]"
      ]
     },
     "execution_count": 2,
     "metadata": {},
     "output_type": "execute_result"
    }
   ],
   "source": [
    "L=[1,2,3,5,4,7,6,\"Chirag\",True]#list is collection of data type in squre bracket it's in order,mmutable(we can change the item in list after it has been created),duplicate value being allow\n",
    "L\n"
   ]
  },
  {
   "cell_type": "code",
   "execution_count": 2,
   "id": "3dfbd3dd",
   "metadata": {},
   "outputs": [
    {
     "data": {
      "text/plain": [
       "list"
      ]
     },
     "execution_count": 2,
     "metadata": {},
     "output_type": "execute_result"
    }
   ],
   "source": [
    "type(L)"
   ]
  },
  {
   "cell_type": "code",
   "execution_count": 2,
   "id": "e30581ac",
   "metadata": {},
   "outputs": [
    {
     "data": {
      "text/plain": [
       "True"
      ]
     },
     "execution_count": 2,
     "metadata": {},
     "output_type": "execute_result"
    }
   ],
   "source": [
    "L[0]#indexing-getting value by position\n",
    "L[-1]"
   ]
  },
  {
   "cell_type": "code",
   "execution_count": 3,
   "id": "39788aff",
   "metadata": {},
   "outputs": [
    {
     "data": {
      "text/plain": [
       "[1, 2, 3, 5, 4, 7, 6, 'Chirag', True]"
      ]
     },
     "execution_count": 3,
     "metadata": {},
     "output_type": "execute_result"
    }
   ],
   "source": [
    "L[0:]"
   ]
  },
  {
   "cell_type": "code",
   "execution_count": 4,
   "id": "154f6e5e",
   "metadata": {},
   "outputs": [
    {
     "data": {
      "text/plain": [
       "[]"
      ]
     },
     "execution_count": 4,
     "metadata": {},
     "output_type": "execute_result"
    }
   ],
   "source": [
    "L[:0]"
   ]
  },
  {
   "cell_type": "code",
   "execution_count": 8,
   "id": "a20f7d5d",
   "metadata": {},
   "outputs": [
    {
     "data": {
      "text/plain": [
       "[3, 5, 4, 7, 6, 6]"
      ]
     },
     "execution_count": 8,
     "metadata": {},
     "output_type": "execute_result"
    }
   ],
   "source": [
    "L[2:]"
   ]
  },
  {
   "cell_type": "code",
   "execution_count": 4,
   "id": "1537810b",
   "metadata": {},
   "outputs": [
    {
     "data": {
      "text/plain": [
       "[1, 2]"
      ]
     },
     "execution_count": 4,
     "metadata": {},
     "output_type": "execute_result"
    }
   ],
   "source": [
    "L[0:2:1]"
   ]
  },
  {
   "cell_type": "code",
   "execution_count": 12,
   "id": "73269c51",
   "metadata": {},
   "outputs": [
    {
     "data": {
      "text/plain": [
       "[1, 3, 4]"
      ]
     },
     "execution_count": 12,
     "metadata": {},
     "output_type": "execute_result"
    }
   ],
   "source": [
    "L[0:6:2]"
   ]
  },
  {
   "cell_type": "code",
   "execution_count": 15,
   "id": "36f5b354",
   "metadata": {},
   "outputs": [
    {
     "data": {
      "text/plain": [
       "[1, 2, 3, 5, 4, 7, 6]"
      ]
     },
     "execution_count": 15,
     "metadata": {},
     "output_type": "execute_result"
    }
   ],
   "source": [
    "L[:-1]"
   ]
  },
  {
   "cell_type": "code",
   "execution_count": 6,
   "id": "14d326f9",
   "metadata": {
    "scrolled": true
   },
   "outputs": [
    {
     "data": {
      "text/plain": [
       "'Chirag'"
      ]
     },
     "execution_count": 6,
     "metadata": {},
     "output_type": "execute_result"
    }
   ],
   "source": [
    "L[7]"
   ]
  },
  {
   "cell_type": "code",
   "execution_count": 22,
   "id": "d56dcd85",
   "metadata": {},
   "outputs": [
    {
     "data": {
      "text/plain": [
       "True"
      ]
     },
     "execution_count": 22,
     "metadata": {},
     "output_type": "execute_result"
    }
   ],
   "source": [
    "L[8]"
   ]
  },
  {
   "cell_type": "code",
   "execution_count": 23,
   "id": "a42a0995",
   "metadata": {},
   "outputs": [
    {
     "data": {
      "text/plain": [
       "'True'"
      ]
     },
     "execution_count": 23,
     "metadata": {},
     "output_type": "execute_result"
    }
   ],
   "source": [
    "str(L[8])"
   ]
  },
  {
   "cell_type": "code",
   "execution_count": 24,
   "id": "01b1ad07",
   "metadata": {},
   "outputs": [
    {
     "data": {
      "text/plain": [
       "9"
      ]
     },
     "execution_count": 24,
     "metadata": {},
     "output_type": "execute_result"
    }
   ],
   "source": [
    "len(L)"
   ]
  },
  {
   "cell_type": "code",
   "execution_count": 27,
   "id": "c26c5456",
   "metadata": {},
   "outputs": [
    {
     "data": {
      "text/plain": [
       "[0, 1, 2, 3, 4, 5, 6]"
      ]
     },
     "execution_count": 27,
     "metadata": {},
     "output_type": "execute_result"
    }
   ],
   "source": [
    "list(range(7))"
   ]
  },
  {
   "cell_type": "code",
   "execution_count": 5,
   "id": "c3d174fb",
   "metadata": {},
   "outputs": [
    {
     "data": {
      "text/plain": [
       "[1, 2, 3, 5, 4, 7, 6, 'Chirag', True, 'e']"
      ]
     },
     "execution_count": 5,
     "metadata": {},
     "output_type": "execute_result"
    }
   ],
   "source": [
    "L.append('e')\n",
    "L"
   ]
  },
  {
   "cell_type": "code",
   "execution_count": 8,
   "id": "d27c0c8b",
   "metadata": {},
   "outputs": [],
   "source": [
    "x='rathod'"
   ]
  },
  {
   "cell_type": "code",
   "execution_count": 9,
   "id": "002b805e",
   "metadata": {},
   "outputs": [
    {
     "data": {
      "text/plain": [
       "[1, 2, 3, 5, 4, 7, 6, 'Chirag', True, 'e', 'rathod']"
      ]
     },
     "execution_count": 9,
     "metadata": {},
     "output_type": "execute_result"
    }
   ],
   "source": [
    "L.append(x)\n",
    "L"
   ]
  },
  {
   "cell_type": "code",
   "execution_count": 6,
   "id": "09107022",
   "metadata": {},
   "outputs": [
    {
     "data": {
      "text/plain": [
       "[6, 1, 2, 3, 5, 4, 7, 6, 'Chirag', True, 'e']"
      ]
     },
     "execution_count": 6,
     "metadata": {},
     "output_type": "execute_result"
    }
   ],
   "source": [
    "L.insert(0,6)\n",
    "L"
   ]
  },
  {
   "cell_type": "code",
   "execution_count": 7,
   "id": "d0623be3",
   "metadata": {},
   "outputs": [
    {
     "data": {
      "text/plain": [
       "[6, 2, 3, 5, 4, 7, 6, 'Chirag', True, 'e']"
      ]
     },
     "execution_count": 7,
     "metadata": {},
     "output_type": "execute_result"
    }
   ],
   "source": [
    "L.pop(1)\n",
    "L"
   ]
  },
  {
   "cell_type": "code",
   "execution_count": 8,
   "id": "4d036ac6",
   "metadata": {},
   "outputs": [
    {
     "data": {
      "text/plain": [
       "[6, 2, 3, 4, 7, 6, 'Chirag', True, 'e']"
      ]
     },
     "execution_count": 8,
     "metadata": {},
     "output_type": "execute_result"
    }
   ],
   "source": [
    "L.remove(5)\n",
    "L"
   ]
  },
  {
   "cell_type": "code",
   "execution_count": 9,
   "id": "92934f5d",
   "metadata": {},
   "outputs": [],
   "source": [
    "L1=[1,2,3,5,3,7,6]"
   ]
  },
  {
   "cell_type": "code",
   "execution_count": 10,
   "id": "79f21b11",
   "metadata": {},
   "outputs": [
    {
     "data": {
      "text/plain": [
       "[6, 7, 3, 5, 3, 2, 1]"
      ]
     },
     "execution_count": 10,
     "metadata": {},
     "output_type": "execute_result"
    }
   ],
   "source": [
    "L1.reverse()\n",
    "L1"
   ]
  },
  {
   "cell_type": "code",
   "execution_count": 87,
   "id": "b804a94a",
   "metadata": {},
   "outputs": [
    {
     "data": {
      "text/plain": [
       "[1, 2, 3, 3, 5, 6, 7]"
      ]
     },
     "execution_count": 87,
     "metadata": {},
     "output_type": "execute_result"
    }
   ],
   "source": [
    "L1.sort()\n",
    "L1"
   ]
  },
  {
   "cell_type": "code",
   "execution_count": 11,
   "id": "165576ed",
   "metadata": {},
   "outputs": [
    {
     "data": {
      "text/plain": [
       "2"
      ]
     },
     "execution_count": 11,
     "metadata": {},
     "output_type": "execute_result"
    }
   ],
   "source": [
    "L1.index(3)#knowing the position\n"
   ]
  },
  {
   "cell_type": "code",
   "execution_count": 12,
   "id": "c8b7f668",
   "metadata": {},
   "outputs": [
    {
     "data": {
      "text/plain": [
       "2"
      ]
     },
     "execution_count": 12,
     "metadata": {},
     "output_type": "execute_result"
    }
   ],
   "source": [
    "L1.count(3)"
   ]
  },
  {
   "cell_type": "code",
   "execution_count": 18,
   "id": "e44f0518",
   "metadata": {},
   "outputs": [],
   "source": [
    "w=[1,2,3]\n",
    "f=[1,2,3]\n",
    "w.extend(f)"
   ]
  },
  {
   "cell_type": "code",
   "execution_count": 16,
   "id": "51190d19",
   "metadata": {},
   "outputs": [
    {
     "data": {
      "text/plain": [
       "[1, 2, 3, 1, 2, 3]"
      ]
     },
     "execution_count": 16,
     "metadata": {},
     "output_type": "execute_result"
    }
   ],
   "source": [
    "w+f"
   ]
  },
  {
   "cell_type": "code",
   "execution_count": 93,
   "id": "09901375",
   "metadata": {},
   "outputs": [
    {
     "data": {
      "text/plain": [
       "'CTIRAG'"
      ]
     },
     "execution_count": 93,
     "metadata": {},
     "output_type": "execute_result"
    }
   ],
   "source": [
    "s='CHIRAG'\n",
    "s.replace('H','T')"
   ]
  },
  {
   "cell_type": "code",
   "execution_count": 94,
   "id": "28afb3d0",
   "metadata": {},
   "outputs": [
    {
     "data": {
      "text/plain": [
       "(1, 2, 3, 5, 4, 7, 6, 'Chirag', True)"
      ]
     },
     "execution_count": 94,
     "metadata": {},
     "output_type": "execute_result"
    }
   ],
   "source": [
    "T=(1,2,3,5,4,7,6,\"Chirag\",True)#tuple is collection of data type in  parethesis it's in order,immutable(we cannot change the item in list after it has been created),duplicate value being allow\n",
    "T#we can do indexing slicing but can't append and insert"
   ]
  },
  {
   "cell_type": "code",
   "execution_count": 6,
   "id": "935c7094",
   "metadata": {},
   "outputs": [
    {
     "data": {
      "text/plain": [
       "([1, 3, 4, 5], 4, 5, 6)"
      ]
     },
     "execution_count": 6,
     "metadata": {},
     "output_type": "execute_result"
    }
   ],
   "source": [
    "T1=([1,3,4],4,5,6)\n",
    "T1[0].append(5)\n",
    "T1"
   ]
  },
  {
   "cell_type": "code",
   "execution_count": 3,
   "id": "8a3e7cc0",
   "metadata": {},
   "outputs": [
    {
     "data": {
      "text/plain": [
       "{1, 2, 3, 4, 5, 6, 7, 'Chirag'}"
      ]
     },
     "execution_count": 3,
     "metadata": {},
     "output_type": "execute_result"
    }
   ],
   "source": [
    "S={1,2,3,5,4,7,6,\"Chirag\",True} #unorder so indexing and slicing we can' do,no duplicate value\n",
    "S"
   ]
  },
  {
   "cell_type": "code",
   "execution_count": 9,
   "id": "62f61a6d",
   "metadata": {},
   "outputs": [
    {
     "data": {
      "text/plain": [
       "{1, 2, 4, 5, 6, 7, 'Chirag'}"
      ]
     },
     "execution_count": 9,
     "metadata": {},
     "output_type": "execute_result"
    }
   ],
   "source": [
    "S.discard(3) #for set discard being use instead of remove\n",
    "S"
   ]
  },
  {
   "cell_type": "code",
   "execution_count": 10,
   "id": "d3ea407d",
   "metadata": {},
   "outputs": [
    {
     "name": "stdout",
     "output_type": "stream",
     "text": [
      "[1, 2, 4, 5, 6, 7, 'Chirag']\n"
     ]
    }
   ],
   "source": [
    "print(list(S))"
   ]
  },
  {
   "cell_type": "code",
   "execution_count": 11,
   "id": "93b0189e",
   "metadata": {},
   "outputs": [
    {
     "name": "stdout",
     "output_type": "stream",
     "text": [
      "(1, 2, 4, 5, 6, 7, 'Chirag')\n"
     ]
    }
   ],
   "source": [
    "print(tuple(S))"
   ]
  },
  {
   "cell_type": "code",
   "execution_count": 19,
   "id": "0ee694a4",
   "metadata": {},
   "outputs": [],
   "source": [
    "D={'name':'chirag','roll no':'19BPE020','look':['good','cute','innocent']}#dictionary is collection of key-value orderd mutable no duplicate"
   ]
  },
  {
   "cell_type": "code",
   "execution_count": 13,
   "id": "15e75b35",
   "metadata": {},
   "outputs": [
    {
     "data": {
      "text/plain": [
       "{'name': 'chirag', 'roll no': '19BPE020', 'look': ['good', 'cute', 'innocent']}"
      ]
     },
     "execution_count": 13,
     "metadata": {},
     "output_type": "execute_result"
    }
   ],
   "source": [
    "D"
   ]
  },
  {
   "cell_type": "code",
   "execution_count": 32,
   "id": "f37462e9",
   "metadata": {},
   "outputs": [
    {
     "data": {
      "text/plain": [
       "dict_keys(['name', 'roll no', 'look'])"
      ]
     },
     "execution_count": 32,
     "metadata": {},
     "output_type": "execute_result"
    }
   ],
   "source": [
    "D.keys()"
   ]
  },
  {
   "cell_type": "code",
   "execution_count": 33,
   "id": "e79df684",
   "metadata": {},
   "outputs": [
    {
     "data": {
      "text/plain": [
       "['chirag', '19BPE020', ['good', 'cute', 'innocent']]"
      ]
     },
     "execution_count": 33,
     "metadata": {},
     "output_type": "execute_result"
    }
   ],
   "source": [
    "list(D.values())"
   ]
  },
  {
   "cell_type": "code",
   "execution_count": 34,
   "id": "435a3000",
   "metadata": {},
   "outputs": [
    {
     "data": {
      "text/plain": [
       "dict_items([('name', 'chirag'), ('roll no', '19BPE020'), ('look', ['good', 'cute', 'innocent'])])"
      ]
     },
     "execution_count": 34,
     "metadata": {},
     "output_type": "execute_result"
    }
   ],
   "source": [
    "D.items()"
   ]
  },
  {
   "cell_type": "code",
   "execution_count": 35,
   "id": "901fa92b",
   "metadata": {},
   "outputs": [
    {
     "data": {
      "text/plain": [
       "'chirag'"
      ]
     },
     "execution_count": 35,
     "metadata": {},
     "output_type": "execute_result"
    }
   ],
   "source": [
    "D['name']"
   ]
  },
  {
   "cell_type": "code",
   "execution_count": 36,
   "id": "5202c300",
   "metadata": {},
   "outputs": [
    {
     "data": {
      "text/plain": [
       "'cute'"
      ]
     },
     "execution_count": 36,
     "metadata": {},
     "output_type": "execute_result"
    }
   ],
   "source": [
    "D['look'][1]"
   ]
  },
  {
   "cell_type": "code",
   "execution_count": 37,
   "id": "8be0dd9c",
   "metadata": {},
   "outputs": [
    {
     "data": {
      "text/plain": [
       "{'name': 'chirag',\n",
       " 'roll no': '19BPE020',\n",
       " 'look': ['good', 'cute', 'innocent'],\n",
       " 'hobby': 'reading'}"
      ]
     },
     "execution_count": 37,
     "metadata": {},
     "output_type": "execute_result"
    }
   ],
   "source": [
    "D['hobby']='reading'\n",
    "D"
   ]
  },
  {
   "cell_type": "code",
   "execution_count": 16,
   "id": "5fe77524",
   "metadata": {},
   "outputs": [],
   "source": [
    "#del D['look']"
   ]
  },
  {
   "cell_type": "code",
   "execution_count": 17,
   "id": "72e1ceaa",
   "metadata": {},
   "outputs": [],
   "source": [
    "#D.pop('look')"
   ]
  },
  {
   "cell_type": "code",
   "execution_count": 20,
   "id": "2884de06",
   "metadata": {},
   "outputs": [
    {
     "data": {
      "text/plain": [
       "{'name': 'chirag', 'roll no': '19BPE020', 'look': ['good', 'cute', 'innocent']}"
      ]
     },
     "execution_count": 20,
     "metadata": {},
     "output_type": "execute_result"
    }
   ],
   "source": [
    "D"
   ]
  },
  {
   "cell_type": "code",
   "execution_count": 1,
   "id": "b1d91a0b",
   "metadata": {},
   "outputs": [
    {
     "data": {
      "text/plain": [
       "['good', 'cute', 'innocent']"
      ]
     },
     "execution_count": 1,
     "metadata": {},
     "output_type": "execute_result"
    }
   ],
   "source": [
    "l=['good', 'cute', 'innocent']\n",
    "l"
   ]
  },
  {
   "cell_type": "code",
   "execution_count": 2,
   "id": "591fc4f4",
   "metadata": {},
   "outputs": [
    {
     "name": "stdout",
     "output_type": "stream",
     "text": [
      "good\n",
      "cute\n",
      "innocent\n"
     ]
    },
    {
     "data": {
      "text/plain": [
       "['GOOD', 'CUTE', 'INNOCENT']"
      ]
     },
     "execution_count": 2,
     "metadata": {},
     "output_type": "execute_result"
    }
   ],
   "source": [
    "l1=[]\n",
    "for i in l:\n",
    "    print(i)\n",
    "    l1.append(i.upper())\n",
    "s=set(l1)\n",
    "type(s)\n",
    "l1"
   ]
  },
  {
   "cell_type": "code",
   "execution_count": 3,
   "id": "5a9a46b0",
   "metadata": {},
   "outputs": [],
   "source": [
    "l3=[1,2,3,4,5,'good', 'cute', 'innocent',123.5,45,34.6]"
   ]
  },
  {
   "cell_type": "code",
   "execution_count": 4,
   "id": "660a687f",
   "metadata": {},
   "outputs": [
    {
     "name": "stdout",
     "output_type": "stream",
     "text": [
      "['good', 'cute', 'innocent']\n",
      "[1, 2, 3, 4, 5, 123.5, 45, 34.6]\n"
     ]
    }
   ],
   "source": [
    "l1_num=[]\n",
    "l1_str=[]\n",
    "for i in l3:\n",
    "    if type(i)==int or type(i)==float:\n",
    "        l1_num.append(i)\n",
    "       \n",
    "    elif type(i)==str:\n",
    "        l1_str.append(i)\n",
    "print(l1_str)\n",
    "    \n",
    "print(l1_num)       "
   ]
  },
  {
   "cell_type": "markdown",
   "id": "ca7291ba",
   "metadata": {},
   "source": [
    "#for loop is a type of loop that is used to iterate over a sequence( list,tuple,set)\n",
    "the genral syntax of a for loop is \"for item in sequnce\"\n",
    "here item is a variable tha takes on the value of each element in the sequnce one by one.and o the block of indented code following the for line is executed nce for each iteration"
   ]
  },
  {
   "cell_type": "code",
   "execution_count": 5,
   "id": "bc28fa4f",
   "metadata": {},
   "outputs": [],
   "source": [
    "a=[1,2,3,'h',5.5,True]"
   ]
  },
  {
   "cell_type": "code",
   "execution_count": 6,
   "id": "3c573628",
   "metadata": {},
   "outputs": [
    {
     "name": "stdout",
     "output_type": "stream",
     "text": [
      "1 <class 'int'>\n",
      "2 <class 'int'>\n",
      "3 <class 'int'>\n",
      "h <class 'str'>\n",
      "5.5 <class 'float'>\n",
      "True <class 'bool'>\n"
     ]
    }
   ],
   "source": [
    "for i in a:\n",
    "    print(i,type(i))"
   ]
  },
  {
   "cell_type": "code",
   "execution_count": 7,
   "id": "0b2eba62",
   "metadata": {},
   "outputs": [
    {
     "name": "stdout",
     "output_type": "stream",
     "text": [
      "1\n",
      "2\n",
      "3\n",
      "h\n",
      "5.5\n",
      "True\n",
      "loop executed\n"
     ]
    }
   ],
   "source": [
    "for i in a:\n",
    "    print(i)\n",
    "else:\n",
    "    print('loop executed')"
   ]
  },
  {
   "cell_type": "code",
   "execution_count": 12,
   "id": "6523a606",
   "metadata": {},
   "outputs": [
    {
     "name": "stdout",
     "output_type": "stream",
     "text": [
      "1\n",
      "2\n"
     ]
    }
   ],
   "source": [
    "for i in c:\n",
    "     if i<3:\n",
    "            print(i)\n",
    "    "
   ]
  },
  {
   "cell_type": "code",
   "execution_count": 8,
   "id": "d878291e",
   "metadata": {},
   "outputs": [],
   "source": [
    "c=[1,2,3,45]"
   ]
  },
  {
   "cell_type": "markdown",
   "id": "8e0e3776",
   "metadata": {},
   "source": [
    "break statement-;used to exist loop permently..when break statement encounterd the loop is terminated and the program continues with the next statemnet after the loop"
   ]
  },
  {
   "cell_type": "code",
   "execution_count": 13,
   "id": "4b262f33",
   "metadata": {},
   "outputs": [],
   "source": [
    "D=['chirag','harsh','jk','mk','pk']"
   ]
  },
  {
   "cell_type": "code",
   "execution_count": 14,
   "id": "1bf67ad9",
   "metadata": {},
   "outputs": [],
   "source": [
    "l=[1,5,3,7,4,9]"
   ]
  },
  {
   "cell_type": "code",
   "execution_count": 24,
   "id": "e2dabeaf",
   "metadata": {},
   "outputs": [
    {
     "name": "stdout",
     "output_type": "stream",
     "text": [
      "t\n"
     ]
    }
   ],
   "source": [
    "for i in l:\n",
    "    if i<7:\n",
    "        break\n",
    "        print(i)\n",
    "else:\n",
    "    print('t')\n",
    "for i in l:\n",
    "    if i<3:\n",
    "        continue \n",
    "        print(i)\n",
    "else:\n",
    "    print('t')\n"
   ]
  },
  {
   "cell_type": "code",
   "execution_count": 25,
   "id": "2953a422",
   "metadata": {},
   "outputs": [
    {
     "name": "stdout",
     "output_type": "stream",
     "text": [
      "1\n",
      "5\n",
      "3\n",
      "4\n",
      "t\n"
     ]
    }
   ],
   "source": [
    "for i in l:\n",
    "    if i<7:\n",
    "        print(i)\n",
    "for i in l:\n",
    "    if i<9:\n",
    "        continue\n",
    "        print(i)\n",
    "else:\n",
    "    print('t')"
   ]
  },
  {
   "cell_type": "code",
   "execution_count": 28,
   "id": "34a226bc",
   "metadata": {},
   "outputs": [
    {
     "name": "stdout",
     "output_type": "stream",
     "text": [
      "chirag\n",
      "harsh\n",
      "jk\n",
      "chirag\n",
      "harsh\n",
      "jk\n",
      "pk\n",
      "done\n"
     ]
    }
   ],
   "source": [
    "for i in D:\n",
    "    if i=='mk':\n",
    "        break\n",
    "    print(i)\n",
    "for i in D:\n",
    "    if i=='mk':\n",
    "        continue\n",
    "    print(i)\n",
    "print('done')\n"
   ]
  },
  {
   "cell_type": "markdown",
   "id": "1efc4ab8",
   "metadata": {},
   "source": [
    "continue-continue statement use to skip current iteration of a loop and continue with next iteration.when continue statement is encounered the current iteration is skipped and program continue with the next iteration"
   ]
  },
  {
   "cell_type": "code",
   "execution_count": 46,
   "id": "f5d65e1d",
   "metadata": {},
   "outputs": [
    {
     "name": "stdout",
     "output_type": "stream",
     "text": [
      "9\n",
      "t\n"
     ]
    }
   ],
   "source": [
    "for i in l:\n",
    "    if i<=7:\n",
    "        continue\n",
    "    print(i)\n",
    "else:\n",
    "    print('t')\n"
   ]
  },
  {
   "cell_type": "code",
   "execution_count": 42,
   "id": "496cceb4",
   "metadata": {},
   "outputs": [
    {
     "name": "stdout",
     "output_type": "stream",
     "text": [
      "chirag\n",
      "harsh\n",
      "jk\n",
      "pk\n",
      "done\n"
     ]
    }
   ],
   "source": [
    "for i in D:\n",
    "    if i=='mk':\n",
    "        continue\n",
    "    print(i)\n",
    "else:\n",
    "    print('done')"
   ]
  },
  {
   "cell_type": "code",
   "execution_count": 49,
   "id": "ad2b413d",
   "metadata": {},
   "outputs": [
    {
     "data": {
      "text/plain": [
       "[1, 2, 3, 4, 5, 6, 7, 8, 9]"
      ]
     },
     "execution_count": 49,
     "metadata": {},
     "output_type": "execute_result"
    }
   ],
   "source": [
    "list(range(1,10))"
   ]
  },
  {
   "cell_type": "code",
   "execution_count": 129,
   "id": "92e4898b",
   "metadata": {},
   "outputs": [
    {
     "data": {
      "text/plain": [
       "[1, 3, 5, 7, 9]"
      ]
     },
     "execution_count": 129,
     "metadata": {},
     "output_type": "execute_result"
    }
   ],
   "source": [
    "list(range(1,10,2))"
   ]
  },
  {
   "cell_type": "code",
   "execution_count": 10,
   "id": "d9f3e363",
   "metadata": {},
   "outputs": [
    {
     "name": "stdout",
     "output_type": "stream",
     "text": [
      "0\n",
      "2\n",
      "4\n",
      "6\n",
      "8\n",
      "10\n"
     ]
    }
   ],
   "source": [
    "for i in range(0,12,2):\n",
    "    print(i)"
   ]
  },
  {
   "cell_type": "code",
   "execution_count": 11,
   "id": "45b4b36d",
   "metadata": {},
   "outputs": [
    {
     "name": "stdout",
     "output_type": "stream",
     "text": [
      "1\n",
      "2\n",
      "3\n",
      "4\n",
      "5\n",
      "6\n",
      "7\n",
      "8\n",
      "9\n",
      "10\n"
     ]
    }
   ],
   "source": [
    "for i in range(1,11):\n",
    "    print(i)"
   ]
  },
  {
   "cell_type": "code",
   "execution_count": 50,
   "id": "e0163cdc",
   "metadata": {},
   "outputs": [
    {
     "name": "stdout",
     "output_type": "stream",
     "text": [
      "0\n",
      "2\n",
      "4\n",
      "6\n",
      "8\n",
      "10\n"
     ]
    }
   ],
   "source": [
    "for i in range(11):\n",
    "    if i%2==0:\n",
    "        print(i)"
   ]
  },
  {
   "cell_type": "code",
   "execution_count": 51,
   "id": "556ad658",
   "metadata": {},
   "outputs": [
    {
     "name": "stdout",
     "output_type": "stream",
     "text": [
      "2\n",
      "3\n",
      "4\n",
      "5\n",
      "6\n",
      "7\n",
      "8\n",
      "9\n",
      "10\n",
      "11\n",
      "12\n"
     ]
    }
   ],
   "source": [
    "for i in range(11):\n",
    "    print(i+2)\n"
   ]
  },
  {
   "cell_type": "code",
   "execution_count": 61,
   "id": "47823163",
   "metadata": {},
   "outputs": [
    {
     "name": "stdout",
     "output_type": "stream",
     "text": [
      "1\n",
      "3\n",
      "6\n",
      "10\n",
      "15\n",
      "21\n",
      "28\n",
      "36\n",
      "45\n",
      "55\n"
     ]
    }
   ],
   "source": [
    "sum=0\n",
    "for i in range(1,11):\n",
    "    sum+=i\n",
    "    print(sum)\n"
   ]
  },
  {
   "cell_type": "code",
   "execution_count": 59,
   "id": "738df281",
   "metadata": {},
   "outputs": [
    {
     "name": "stdout",
     "output_type": "stream",
     "text": [
      "3\n",
      "6\n",
      "9\n",
      "12\n",
      "15\n",
      "18\n",
      "21\n",
      "24\n",
      "27\n",
      "30\n"
     ]
    }
   ],
   "source": [
    "sum=3\n",
    "\n",
    "for i in range(1,11):\n",
    "    print(i*sum)\n",
    "    \n",
    "   "
   ]
  },
  {
   "cell_type": "code",
   "execution_count": null,
   "id": "ae023f48",
   "metadata": {},
   "outputs": [],
   "source": []
  },
  {
   "cell_type": "markdown",
   "id": "6eba7c6a",
   "metadata": {},
   "source": [
    "while loop is control flow system that allow you to execute block of code repeaedly as long as specified condition become true\n",
    "the condition is evaluated before each iteration of the loop ,if the condition is true the code inside loop will execute untill condition become false\n",
    "you need to ensure that the condition will eventualy become false othewise i will continue"
   ]
  },
  {
   "cell_type": "code",
   "execution_count": 29,
   "id": "006d0bf2",
   "metadata": {},
   "outputs": [
    {
     "name": "stdout",
     "output_type": "stream",
     "text": [
      "0\n",
      "1\n",
      "2\n"
     ]
    }
   ],
   "source": [
    "for i in [0,1,2]:\n",
    "    print(i)"
   ]
  },
  {
   "cell_type": "code",
   "execution_count": 30,
   "id": "f66860f3",
   "metadata": {},
   "outputs": [
    {
     "name": "stdout",
     "output_type": "stream",
     "text": [
      "0\n",
      "1\n",
      "2\n"
     ]
    }
   ],
   "source": [
    "j = 0\n",
    "while j < 3:\n",
    "    print(j)\n",
    "    j = j + 1"
   ]
  },
  {
   "cell_type": "code",
   "execution_count": 5,
   "id": "1823787b",
   "metadata": {},
   "outputs": [
    {
     "name": "stdout",
     "output_type": "stream",
     "text": [
      "1\n",
      "4\n",
      "7\n",
      "10\n"
     ]
    }
   ],
   "source": [
    "a = 1\n",
    "while a<=10:\n",
    "    print(a)\n",
    "    a=a+3"
   ]
  },
  {
   "cell_type": "markdown",
   "id": "6f0f376d",
   "metadata": {},
   "source": [
    "function is a block of reusable code that performs a specific task this function can take argumnet(input value) and return result(out put value)\n",
    "to define function python use def key word followd by function name and set of parthess that may contain zero or more arguments\n",
    "def key word is use to define function\n",
    "the pass keyword is a null statement that does nothing,it is used as a placeholder is requred bu no action nedd to be taken\n",
    "the return key word is used to specify value that function should return when it is called\n",
    "when the return statemnet is executed the funcion terminate immediately and return the value in specified return statment"
   ]
  },
  {
   "cell_type": "code",
   "execution_count": 12,
   "id": "9c413d50",
   "metadata": {},
   "outputs": [],
   "source": [
    "def test():\n",
    "    print('this is my function')"
   ]
  },
  {
   "cell_type": "code",
   "execution_count": 16,
   "id": "ac2a376e",
   "metadata": {},
   "outputs": [
    {
     "name": "stdout",
     "output_type": "stream",
     "text": [
      "this is my function\n"
     ]
    }
   ],
   "source": [
    "test()"
   ]
  },
  {
   "cell_type": "code",
   "execution_count": 11,
   "id": "c45b3cf1",
   "metadata": {},
   "outputs": [
    {
     "data": {
      "text/plain": [
       "'this is my function -chirag'"
      ]
     },
     "execution_count": 11,
     "metadata": {},
     "output_type": "execute_result"
    }
   ],
   "source": [
    "def test():\n",
    "    return 'this is my function'\n",
    "test()+' -chirag'"
   ]
  },
  {
   "cell_type": "code",
   "execution_count": 15,
   "id": "18feec73",
   "metadata": {},
   "outputs": [],
   "source": [
    "def test1():\n",
    "    return \"chirag\",23,34.45,[1,2,3,4]\n",
    "a,b,c,d=test1()"
   ]
  },
  {
   "cell_type": "code",
   "execution_count": 16,
   "id": "34b96106",
   "metadata": {},
   "outputs": [
    {
     "data": {
      "text/plain": [
       "'chirag'"
      ]
     },
     "execution_count": 16,
     "metadata": {},
     "output_type": "execute_result"
    }
   ],
   "source": [
    "a"
   ]
  },
  {
   "cell_type": "code",
   "execution_count": 22,
   "id": "0c9f31eb",
   "metadata": {},
   "outputs": [],
   "source": [
    "a,b,c=45,56,67\n",
    "def rt(a,b,c):\n",
    "    d=a+b/c\n",
    "    return a\n",
    "    "
   ]
  },
  {
   "cell_type": "code",
   "execution_count": 24,
   "id": "e79fbd53",
   "metadata": {},
   "outputs": [
    {
     "data": {
      "text/plain": [
       "45"
      ]
     },
     "execution_count": 24,
     "metadata": {},
     "output_type": "execute_result"
    }
   ],
   "source": [
    "rt(45,56,67)"
   ]
  },
  {
   "cell_type": "code",
   "execution_count": 36,
   "id": "abc23f69",
   "metadata": {},
   "outputs": [],
   "source": [
    "l=['good', 'cute', 'innocent']\n",
    "#l1=['good', 'cute', 'innocent']"
   ]
  },
  {
   "cell_type": "code",
   "execution_count": 37,
   "id": "6e039bde",
   "metadata": {},
   "outputs": [],
   "source": [
    "def fg(l=['good', 'cute', 'innocent']):\n",
    "    l1=[]\n",
    "    for i in l:\n",
    "        l1.append(i.upper())\n",
    "    return l1\n"
   ]
  },
  {
   "cell_type": "code",
   "execution_count": 39,
   "id": "f7c7f64e",
   "metadata": {},
   "outputs": [
    {
     "data": {
      "text/plain": [
       "['GOOD', 'CUTE', 'INNOCENT']"
      ]
     },
     "execution_count": 39,
     "metadata": {},
     "output_type": "execute_result"
    }
   ],
   "source": [
    "fg(l=['good', 'cute', 'innocent'])"
   ]
  },
  {
   "cell_type": "code",
   "execution_count": 40,
   "id": "67a7fee2",
   "metadata": {},
   "outputs": [],
   "source": [
    "\n",
    "\n",
    "t=['chirag','harsh','jk','mk','pk']"
   ]
  },
  {
   "cell_type": "code",
   "execution_count": 41,
   "id": "d612b6c7",
   "metadata": {},
   "outputs": [
    {
     "data": {
      "text/plain": [
       "['CHIRAG', 'HARSH', 'JK', 'MK', 'PK']"
      ]
     },
     "execution_count": 41,
     "metadata": {},
     "output_type": "execute_result"
    }
   ],
   "source": [
    "fg(t)"
   ]
  },
  {
   "cell_type": "code",
   "execution_count": 42,
   "id": "68b552a6",
   "metadata": {},
   "outputs": [],
   "source": [
    "l3=[1,2,3,4,5,'good', 'cute', 'innocent',[123.5,45,34.6]]"
   ]
  },
  {
   "cell_type": "code",
   "execution_count": 43,
   "id": "992c6b37",
   "metadata": {},
   "outputs": [],
   "source": [
    "def gh(l3):\n",
    "    l1_num=[]\n",
    "    l1_str=[]\n",
    "    for i in l3:\n",
    "         if type(i)==int or type(i)==float:\n",
    "                 l1_num.append(i)\n",
    "    return l1_num"
   ]
  },
  {
   "cell_type": "code",
   "execution_count": 44,
   "id": "8e09c3d1",
   "metadata": {},
   "outputs": [
    {
     "data": {
      "text/plain": [
       "[1, 2, 3, 4, 5]"
      ]
     },
     "execution_count": 44,
     "metadata": {},
     "output_type": "execute_result"
    }
   ],
   "source": [
    "gh(l3)"
   ]
  },
  {
   "cell_type": "code",
   "execution_count": 45,
   "id": "d7ce6163",
   "metadata": {},
   "outputs": [],
   "source": [
    "l4=[1,2,3,4,5,6,7,'good', 'cute', 'innocent',[123.5,45,34.6]]"
   ]
  },
  {
   "cell_type": "code",
   "execution_count": 46,
   "id": "7941c57d",
   "metadata": {},
   "outputs": [
    {
     "data": {
      "text/plain": [
       "[1, 2, 3, 4, 5, 6, 7]"
      ]
     },
     "execution_count": 46,
     "metadata": {},
     "output_type": "execute_result"
    }
   ],
   "source": [
    "gh(l4)"
   ]
  },
  {
   "cell_type": "code",
   "execution_count": 49,
   "id": "19eed0bc",
   "metadata": {},
   "outputs": [],
   "source": [
    "def uy(a):\n",
    "    l1_num=[]\n",
    "    for i in a:\n",
    "        if type(i)==list:\n",
    "            l1_num.append(i)\n",
    "        elif type(i)==int or type(i)==float:\n",
    "            l1_num.append(i)\n",
    "    return l1_num"
   ]
  },
  {
   "cell_type": "code",
   "execution_count": 50,
   "id": "0ba986d2",
   "metadata": {},
   "outputs": [
    {
     "data": {
      "text/plain": [
       "[1, 2, 3, 4, 5, [123.5, 45, 34.6]]"
      ]
     },
     "execution_count": 50,
     "metadata": {},
     "output_type": "execute_result"
    }
   ],
   "source": [
    "uy(l3)"
   ]
  },
  {
   "cell_type": "code",
   "execution_count": 20,
   "id": "dfa9ae1b",
   "metadata": {},
   "outputs": [],
   "source": [
    "def uj(a):\n",
    "    l1_num=[]\n",
    "    for i in a:\n",
    "        if type(i)==list:\n",
    "            for j in i:\n",
    "                 l1_num.append(j)\n",
    "        else:\n",
    "             if type(i)==int or type(i)==float:\n",
    "                     l1_num.append(i)\n",
    "    return l1_num"
   ]
  },
  {
   "cell_type": "code",
   "execution_count": 51,
   "id": "55868496",
   "metadata": {},
   "outputs": [],
   "source": [
    "def test(n,p):\n",
    "    return n**p"
   ]
  },
  {
   "cell_type": "code",
   "execution_count": 52,
   "id": "cb386972",
   "metadata": {},
   "outputs": [
    {
     "data": {
      "text/plain": [
       "256"
      ]
     },
     "execution_count": 52,
     "metadata": {},
     "output_type": "execute_result"
    }
   ],
   "source": [
    " test(4,4)"
   ]
  },
  {
   "cell_type": "code",
   "execution_count": 53,
   "id": "ca2914d8",
   "metadata": {},
   "outputs": [
    {
     "ename": "NameError",
     "evalue": "name 'uj' is not defined",
     "output_type": "error",
     "traceback": [
      "\u001b[1;31m---------------------------------------------------------------------------\u001b[0m",
      "\u001b[1;31mNameError\u001b[0m                                 Traceback (most recent call last)",
      "Input \u001b[1;32mIn [53]\u001b[0m, in \u001b[0;36m<cell line: 1>\u001b[1;34m()\u001b[0m\n\u001b[1;32m----> 1\u001b[0m \u001b[43muj\u001b[49m(l3)\n",
      "\u001b[1;31mNameError\u001b[0m: name 'uj' is not defined"
     ]
    }
   ],
   "source": [
    "uj(l3)"
   ]
  },
  {
   "cell_type": "markdown",
   "id": "a88586ef",
   "metadata": {},
   "source": [
    "genrator function is use to create a iterator .unlike regular function that execute and reurn value,genrator function use the yield keyword to provide sequnce of value on the fly.\n",
    "when you call genrator function it return genrator objec.you can iterate over the genrator object to produce a sequnce of value the value are genrated one at a time only when you ask for them "
   ]
  },
  {
   "cell_type": "code",
   "execution_count": null,
   "id": "f2befe0e",
   "metadata": {},
   "outputs": [],
   "source": [
    "lambda function is a small ,anonymous function that can have any number of arguments but can only have one expression .the syntax for lamda function is 'lambda wrgumens,;expression'the argument are the parameter for the function and the expression is the  code that is executed when the function is called."
   ]
  },
  {
   "cell_type": "code",
   "execution_count": 26,
   "id": "496cf6c1",
   "metadata": {},
   "outputs": [],
   "source": [
    "a=lambda n,p :n**p"
   ]
  },
  {
   "cell_type": "code",
   "execution_count": 27,
   "id": "5cc6d7d1",
   "metadata": {},
   "outputs": [
    {
     "data": {
      "text/plain": [
       "256"
      ]
     },
     "execution_count": 27,
     "metadata": {},
     "output_type": "execute_result"
    }
   ],
   "source": [
    "a(4,4)"
   ]
  },
  {
   "cell_type": "code",
   "execution_count": 29,
   "id": "2598cafc",
   "metadata": {},
   "outputs": [],
   "source": [
    "add=lambda n,p :n+p"
   ]
  },
  {
   "cell_type": "code",
   "execution_count": 30,
   "id": "1051164b",
   "metadata": {},
   "outputs": [
    {
     "data": {
      "text/plain": [
       "8"
      ]
     },
     "execution_count": 30,
     "metadata": {},
     "output_type": "execute_result"
    }
   ],
   "source": [
    "add(4,4)"
   ]
  },
  {
   "cell_type": "code",
   "execution_count": 31,
   "id": "8be65cd4",
   "metadata": {},
   "outputs": [],
   "source": [
    "c_to_f=lambda c:9/5*c+32"
   ]
  },
  {
   "cell_type": "code",
   "execution_count": 33,
   "id": "783de13a",
   "metadata": {},
   "outputs": [
    {
     "data": {
      "text/plain": [
       "32.36"
      ]
     },
     "execution_count": 33,
     "metadata": {},
     "output_type": "execute_result"
    }
   ],
   "source": [
    "c_to_f(1/5)"
   ]
  },
  {
   "cell_type": "code",
   "execution_count": 34,
   "id": "71ac9137",
   "metadata": {},
   "outputs": [],
   "source": [
    "def c_to_f(c):\n",
    "    return 9/5*c+32"
   ]
  },
  {
   "cell_type": "code",
   "execution_count": 35,
   "id": "a005772b",
   "metadata": {},
   "outputs": [
    {
     "data": {
      "text/plain": [
       "32.36"
      ]
     },
     "execution_count": 35,
     "metadata": {},
     "output_type": "execute_result"
    }
   ],
   "source": [
    "c_to_f(1/5)"
   ]
  },
  {
   "cell_type": "code",
   "execution_count": 36,
   "id": "4e81e254",
   "metadata": {},
   "outputs": [],
   "source": [
    "finding_max=lambda x,y:x if x>y else y"
   ]
  },
  {
   "cell_type": "code",
   "execution_count": 37,
   "id": "d4691caa",
   "metadata": {},
   "outputs": [
    {
     "data": {
      "text/plain": [
       "5"
      ]
     },
     "execution_count": 37,
     "metadata": {},
     "output_type": "execute_result"
    }
   ],
   "source": [
    "finding_max(4,5)"
   ]
  },
  {
   "cell_type": "markdown",
   "id": "5584bb10",
   "metadata": {},
   "source": [
    "map is in built function that takes two or more arguments(a function and one or more iterable code) it applies the given function to each iterable and returns iterator that yield the results"
   ]
  },
  {
   "cell_type": "code",
   "execution_count": 54,
   "id": "abc94d0d",
   "metadata": {},
   "outputs": [
    {
     "data": {
      "text/plain": [
       "[4, 16, 36, 64, 25]"
      ]
     },
     "execution_count": 54,
     "metadata": {},
     "output_type": "execute_result"
    }
   ],
   "source": [
    "list(map(lambda x:x**2,l))"
   ]
  },
  {
   "cell_type": "code",
   "execution_count": 56,
   "id": "eaea65c8",
   "metadata": {},
   "outputs": [
    {
     "data": {
      "text/plain": [
       "[3, 7, 11, 15, 14]"
      ]
     },
     "execution_count": 56,
     "metadata": {},
     "output_type": "execute_result"
    }
   ],
   "source": [
    "list(map(lambda x,y:x+y,l,k))"
   ]
  },
  {
   "cell_type": "code",
   "execution_count": 72,
   "id": "9755995b",
   "metadata": {},
   "outputs": [
    {
     "data": {
      "text/plain": [
       "[2, 12, 30, 56, 45]"
      ]
     },
     "execution_count": 72,
     "metadata": {},
     "output_type": "execute_result"
    }
   ],
   "source": [
    "list(map(lambda x,y:x*y,l,k))"
   ]
  },
  {
   "cell_type": "code",
   "execution_count": 15,
   "id": "102dd1a7",
   "metadata": {},
   "outputs": [
    {
     "data": {
      "text/plain": [
       "[3, 7, 11, 15, 14]"
      ]
     },
     "execution_count": 15,
     "metadata": {},
     "output_type": "execute_result"
    }
   ],
   "source": [
    "list(map(add,l,k))"
   ]
  },
  {
   "cell_type": "markdown",
   "id": "0ce1b1a7",
   "metadata": {},
   "source": [
    "reduce is also in built function that takes a function and iterable as arguments and returns a single value by applying the given function to the elements of iterable one by one"
   ]
  },
  {
   "cell_type": "code",
   "execution_count": 66,
   "id": "964c5f0e",
   "metadata": {},
   "outputs": [
    {
     "data": {
      "text/plain": [
       "8"
      ]
     },
     "execution_count": 66,
     "metadata": {},
     "output_type": "execute_result"
    }
   ],
   "source": [
    "reduce(lambda x,y:x if x>y else y,l)"
   ]
  },
  {
   "cell_type": "code",
   "execution_count": 67,
   "id": "57783f52",
   "metadata": {},
   "outputs": [
    {
     "data": {
      "text/plain": [
       "2"
      ]
     },
     "execution_count": 67,
     "metadata": {},
     "output_type": "execute_result"
    }
   ],
   "source": [
    "reduce(lambda x,y:x if x<y else y,l)"
   ]
  },
  {
   "cell_type": "code",
   "execution_count": 71,
   "id": "4ae10cab",
   "metadata": {},
   "outputs": [
    {
     "data": {
      "text/plain": [
       "25"
      ]
     },
     "execution_count": 71,
     "metadata": {},
     "output_type": "execute_result"
    }
   ],
   "source": [
    "reduce(lambda x,y:x+y,l)"
   ]
  },
  {
   "cell_type": "code",
   "execution_count": 69,
   "id": "7b2cb8be",
   "metadata": {},
   "outputs": [
    {
     "data": {
      "text/plain": [
       "1920"
      ]
     },
     "execution_count": 69,
     "metadata": {},
     "output_type": "execute_result"
    }
   ],
   "source": [
    "reduce(lambda x,y:x*y,l)"
   ]
  },
  {
   "cell_type": "code",
   "execution_count": 63,
   "id": "b4b1c363",
   "metadata": {},
   "outputs": [],
   "source": [
    "from functools import reduce"
   ]
  },
  {
   "cell_type": "code",
   "execution_count": 47,
   "id": "70f2c57a",
   "metadata": {},
   "outputs": [
    {
     "data": {
      "text/plain": [
       "[2, 4, 6, 8, 5, 1, 3, 5, 7, 9]"
      ]
     },
     "execution_count": 47,
     "metadata": {},
     "output_type": "execute_result"
    }
   ],
   "source": [
    "l=[2,4,6,8,5]\n",
    "k=[1,3,5,7,9]\n",
    "l+k"
   ]
  },
  {
   "cell_type": "code",
   "execution_count": 51,
   "id": "998f2e42",
   "metadata": {},
   "outputs": [],
   "source": [
    "def sq(l):\n",
    "    l1=[]\n",
    "    for i in l:\n",
    "        l1.append(i**2)\n",
    "    return l1"
   ]
  },
  {
   "cell_type": "code",
   "execution_count": 52,
   "id": "b5d49a03",
   "metadata": {},
   "outputs": [
    {
     "data": {
      "text/plain": [
       "[4, 16, 36, 64, 25]"
      ]
     },
     "execution_count": 52,
     "metadata": {},
     "output_type": "execute_result"
    }
   ],
   "source": [
    "sq(l)"
   ]
  },
  {
   "cell_type": "code",
   "execution_count": 60,
   "id": "e53130a7",
   "metadata": {},
   "outputs": [
    {
     "data": {
      "text/plain": [
       "['C', 'H', 'I', 'R', 'A', 'G']"
      ]
     },
     "execution_count": 60,
     "metadata": {},
     "output_type": "execute_result"
    }
   ],
   "source": [
    "s='chirag'\n",
    "list(map(lambda s:s.upper(),s))"
   ]
  },
  {
   "cell_type": "markdown",
   "id": "64543b11",
   "metadata": {},
   "source": [
    "filter is a in built function that takes a function and iterable arguments and returns a iterator that yield a the element of the iterable for which the function return the true value."
   ]
  },
  {
   "cell_type": "code",
   "execution_count": 74,
   "id": "4a20c414",
   "metadata": {},
   "outputs": [
    {
     "data": {
      "text/plain": [
       "[8]"
      ]
     },
     "execution_count": 74,
     "metadata": {},
     "output_type": "execute_result"
    }
   ],
   "source": [
    "list(filter(lambda x:x>6,l))"
   ]
  },
  {
   "cell_type": "code",
   "execution_count": 78,
   "id": "bac7dc19",
   "metadata": {},
   "outputs": [
    {
     "data": {
      "text/plain": [
       "['chirag', 'name', 'city']"
      ]
     },
     "execution_count": 78,
     "metadata": {},
     "output_type": "execute_result"
    }
   ],
   "source": [
    "list(filter(lambda x:len(x)<7,l2))"
   ]
  },
  {
   "cell_type": "code",
   "execution_count": 76,
   "id": "91fca7ae",
   "metadata": {},
   "outputs": [],
   "source": [
    "l2=['chirag','name','city']"
   ]
  },
  {
   "cell_type": "markdown",
   "id": "7a5bc6c9",
   "metadata": {},
   "source": [
    "oops stands for object -oriented programming it uses object and class to organize code and data.\n",
    "class is a blue print or template for creating object ,class can have attributes(variable) and method(function)\n",
    "object is a instance of class it contains the data and method defined in the class "
   ]
  },
  {
   "cell_type": "code",
   "execution_count": 80,
   "id": "56a83dde",
   "metadata": {},
   "outputs": [
    {
     "name": "stdout",
     "output_type": "stream",
     "text": [
      "<class 'int'>\n",
      "<class 'str'>\n"
     ]
    }
   ],
   "source": [
    "print(type(1))\n",
    "print(type('c'))"
   ]
  },
  {
   "cell_type": "code",
   "execution_count": 82,
   "id": "c3bacfd4",
   "metadata": {},
   "outputs": [
    {
     "name": "stdout",
     "output_type": "stream",
     "text": [
      "<class '__main__.test'>\n"
     ]
    }
   ],
   "source": [
    "class test:\n",
    "    pass\n",
    "a=test()\n",
    "print(type(a))\n"
   ]
  },
  {
   "cell_type": "code",
   "execution_count": 20,
   "id": "bc72c715",
   "metadata": {},
   "outputs": [],
   "source": [
    "class PDEU:\n",
    "    def welcome_msg():\n",
    "        print('welcome to PDEU')"
   ]
  },
  {
   "cell_type": "code",
   "execution_count": 21,
   "id": "d30f5e81",
   "metadata": {},
   "outputs": [
    {
     "name": "stdout",
     "output_type": "stream",
     "text": [
      "welcome to PDEU\n"
     ]
    }
   ],
   "source": [
    "PDEU.welcome_msg()"
   ]
  },
  {
   "cell_type": "code",
   "execution_count": 25,
   "id": "918eeb97",
   "metadata": {},
   "outputs": [],
   "source": [
    "chirag=PDEU()"
   ]
  },
  {
   "cell_type": "code",
   "execution_count": 26,
   "id": "97a3c462",
   "metadata": {},
   "outputs": [],
   "source": [
    "class PDEU:\n",
    "    def welcome_msg(self):\n",
    "        print('welcome to PDEU')"
   ]
  },
  {
   "cell_type": "code",
   "execution_count": 27,
   "id": "10c843d2",
   "metadata": {},
   "outputs": [
    {
     "name": "stdout",
     "output_type": "stream",
     "text": [
      "welcome to PDEU\n"
     ]
    }
   ],
   "source": [
    "chirag.welcome_msg()"
   ]
  },
  {
   "cell_type": "markdown",
   "id": "bfeeb284",
   "metadata": {},
   "source": [
    "the _init_ method also known as consturctor is called when a instance of a class is created .the purpose of this method is to initialize the attributes of the class\n",
    "self is a special parameter refers to the instance of class.when you create an object from a class self is automatically passed as the first parameter to any method defined in the class .the self parameter requried in all instance method of class,including init method allows you to acsess and modify the attributes of  instance within the mehtod.without self parameter you woul not be able to refer to the instance or attributes within mehtod  "
   ]
  },
  {
   "cell_type": "code",
   "execution_count": 115,
   "id": "fa08c559",
   "metadata": {},
   "outputs": [],
   "source": [
    "class pwskills:\n",
    "    def __init__(self,phone_number,mail_id,student_id):\n",
    "        self.phone_number =phone_number\n",
    "        self.mail_id=mail_id\n",
    "        self.student_id=student_id\n",
    "        \n",
    "    def return_student_details(self):\n",
    "        return self.student_id,self.mail_id,self.phone_number\n",
    "    "
   ]
  },
  {
   "cell_type": "code",
   "execution_count": 116,
   "id": "4c98437a",
   "metadata": {},
   "outputs": [],
   "source": [
    "chirag=pwskills(20,'chirag@gmail.come', 4563)"
   ]
  },
  {
   "cell_type": "code",
   "execution_count": 119,
   "id": "9bd519ad",
   "metadata": {},
   "outputs": [
    {
     "data": {
      "text/plain": [
       "4563"
      ]
     },
     "execution_count": 119,
     "metadata": {},
     "output_type": "execute_result"
    }
   ],
   "source": [
    "chirag.student_id"
   ]
  },
  {
   "cell_type": "code",
   "execution_count": 121,
   "id": "c3f5bfa1",
   "metadata": {},
   "outputs": [
    {
     "data": {
      "text/plain": [
       "(4563, 'chirag@gmail.come', 20)"
      ]
     },
     "execution_count": 121,
     "metadata": {},
     "output_type": "execute_result"
    }
   ],
   "source": [
    "chirag.return_student_details()"
   ]
  },
  {
   "cell_type": "markdown",
   "id": "dd4f2301",
   "metadata": {},
   "source": [
    "decorator is a way to add or modify the behavior of a object,without changing it's original code.using a decorar in python invlves defining a decorator function which takes another function as input,adds the desired functinality,and then returns the modified function.which takes another function as input,add the desired functinality and the n returns the mdified function.the decrator function can then be applied to any other function,using the \"@\" symbol before the decorator function name."
   ]
  },
  {
   "cell_type": "code",
   "execution_count": 1,
   "id": "f2c326c5",
   "metadata": {},
   "outputs": [],
   "source": [
    "def test():\n",
    "    print(6+7)"
   ]
  },
  {
   "cell_type": "code",
   "execution_count": 2,
   "id": "7f8c0514",
   "metadata": {},
   "outputs": [
    {
     "name": "stdout",
     "output_type": "stream",
     "text": [
      "13\n"
     ]
    }
   ],
   "source": [
    "test()"
   ]
  },
  {
   "cell_type": "code",
   "execution_count": 5,
   "id": "76cd0e03",
   "metadata": {},
   "outputs": [],
   "source": [
    "def decorate(function):\n",
    "    def inner_decorate():\n",
    "        print('start function')\n",
    "        function()\n",
    "        print('end function')\n",
    "    return inner_decorate"
   ]
  },
  {
   "cell_type": "code",
   "execution_count": 6,
   "id": "8c8e3e67",
   "metadata": {},
   "outputs": [],
   "source": [
    "@decorate\n",
    "def test():\n",
    "    print(6+7)"
   ]
  },
  {
   "cell_type": "code",
   "execution_count": 7,
   "id": "21460bf6",
   "metadata": {},
   "outputs": [
    {
     "name": "stdout",
     "output_type": "stream",
     "text": [
      "start function\n",
      "13\n",
      "end function\n"
     ]
    }
   ],
   "source": [
    "test()"
   ]
  },
  {
   "cell_type": "code",
   "execution_count": null,
   "id": "d5b4d47d",
   "metadata": {},
   "outputs": [],
   "source": [
    "class method are useful when you want to perform some action that involves the class as a whole rather than any individual object of the class.to define a class method in python,you use the @classmethod decorator before the method defination inside the "
   ]
  }
 ],
 "metadata": {
  "kernelspec": {
   "display_name": "Python 3 (ipykernel)",
   "language": "python",
   "name": "python3"
  },
  "language_info": {
   "codemirror_mode": {
    "name": "ipython",
    "version": 3
   },
   "file_extension": ".py",
   "mimetype": "text/x-python",
   "name": "python",
   "nbconvert_exporter": "python",
   "pygments_lexer": "ipython3",
   "version": "3.10.5"
  }
 },
 "nbformat": 4,
 "nbformat_minor": 5
}
