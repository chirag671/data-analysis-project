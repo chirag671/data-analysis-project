{
 "cells": [
  {
   "cell_type": "code",
   "execution_count": 2,
   "id": "3172b8e5",
   "metadata": {},
   "outputs": [],
   "source": [
    "import pandas as pd\n",
    "import numpy as np\n",
    "import matplotlib\n",
    "from matplotlib import pyplot as plt\n",
    "%matplotlib inline\n",
    "matplotlib.rcParams['figure.figsize']=(5,6)\n",
    "import seaborn as sns\n",
    "import warnings\n",
    "warnings.filterwarnings('ignore')"
   ]
  },
  {
   "cell_type": "code",
   "execution_count": 3,
   "id": "027429c3",
   "metadata": {},
   "outputs": [],
   "source": [
    "import plotly.express as px\n",
    "import plotly.io as pio\n",
    "pio.renderers.default='notebook'"
   ]
  },
  {
   "cell_type": "code",
   "execution_count": 5,
   "id": "a808cc5a",
   "metadata": {},
   "outputs": [
    {
     "data": {
      "text/html": [
       "<div>\n",
       "<style scoped>\n",
       "    .dataframe tbody tr th:only-of-type {\n",
       "        vertical-align: middle;\n",
       "    }\n",
       "\n",
       "    .dataframe tbody tr th {\n",
       "        vertical-align: top;\n",
       "    }\n",
       "\n",
       "    .dataframe thead th {\n",
       "        text-align: right;\n",
       "    }\n",
       "</style>\n",
       "<table border=\"1\" class=\"dataframe\">\n",
       "  <thead>\n",
       "    <tr style=\"text-align: right;\">\n",
       "      <th></th>\n",
       "      <th>Order ID</th>\n",
       "      <th>Customer Name</th>\n",
       "      <th>Category</th>\n",
       "      <th>Sub Category</th>\n",
       "      <th>City</th>\n",
       "      <th>Order Date</th>\n",
       "      <th>Region</th>\n",
       "      <th>Sales</th>\n",
       "      <th>Discount</th>\n",
       "      <th>Profit</th>\n",
       "      <th>State</th>\n",
       "    </tr>\n",
       "  </thead>\n",
       "  <tbody>\n",
       "    <tr>\n",
       "      <th>0</th>\n",
       "      <td>OD1</td>\n",
       "      <td>Harish</td>\n",
       "      <td>Oil &amp; Masala</td>\n",
       "      <td>Masalas</td>\n",
       "      <td>Vellore</td>\n",
       "      <td>11-08-2017</td>\n",
       "      <td>North</td>\n",
       "      <td>1254</td>\n",
       "      <td>0.12</td>\n",
       "      <td>401.28</td>\n",
       "      <td>Tamil Nadu</td>\n",
       "    </tr>\n",
       "    <tr>\n",
       "      <th>1</th>\n",
       "      <td>OD2</td>\n",
       "      <td>Sudha</td>\n",
       "      <td>Beverages</td>\n",
       "      <td>Health Drinks</td>\n",
       "      <td>Krishnagiri</td>\n",
       "      <td>11-08-2017</td>\n",
       "      <td>South</td>\n",
       "      <td>749</td>\n",
       "      <td>0.18</td>\n",
       "      <td>149.80</td>\n",
       "      <td>Tamil Nadu</td>\n",
       "    </tr>\n",
       "    <tr>\n",
       "      <th>2</th>\n",
       "      <td>OD3</td>\n",
       "      <td>Hussain</td>\n",
       "      <td>Food Grains</td>\n",
       "      <td>Atta &amp; Flour</td>\n",
       "      <td>Perambalur</td>\n",
       "      <td>06-12-2017</td>\n",
       "      <td>West</td>\n",
       "      <td>2360</td>\n",
       "      <td>0.21</td>\n",
       "      <td>165.20</td>\n",
       "      <td>Tamil Nadu</td>\n",
       "    </tr>\n",
       "    <tr>\n",
       "      <th>3</th>\n",
       "      <td>OD4</td>\n",
       "      <td>Jackson</td>\n",
       "      <td>Fruits &amp; Veggies</td>\n",
       "      <td>Fresh Vegetables</td>\n",
       "      <td>Dharmapuri</td>\n",
       "      <td>10-11-2016</td>\n",
       "      <td>South</td>\n",
       "      <td>896</td>\n",
       "      <td>0.25</td>\n",
       "      <td>89.60</td>\n",
       "      <td>Tamil Nadu</td>\n",
       "    </tr>\n",
       "    <tr>\n",
       "      <th>4</th>\n",
       "      <td>OD5</td>\n",
       "      <td>Ridhesh</td>\n",
       "      <td>Food Grains</td>\n",
       "      <td>Organic Staples</td>\n",
       "      <td>Ooty</td>\n",
       "      <td>10-11-2016</td>\n",
       "      <td>South</td>\n",
       "      <td>2355</td>\n",
       "      <td>0.26</td>\n",
       "      <td>918.45</td>\n",
       "      <td>Tamil Nadu</td>\n",
       "    </tr>\n",
       "  </tbody>\n",
       "</table>\n",
       "</div>"
      ],
      "text/plain": [
       "  Order ID Customer Name          Category      Sub Category         City  \\\n",
       "0      OD1        Harish      Oil & Masala           Masalas      Vellore   \n",
       "1      OD2         Sudha         Beverages     Health Drinks  Krishnagiri   \n",
       "2      OD3       Hussain       Food Grains      Atta & Flour   Perambalur   \n",
       "3      OD4       Jackson  Fruits & Veggies  Fresh Vegetables   Dharmapuri   \n",
       "4      OD5       Ridhesh       Food Grains   Organic Staples         Ooty   \n",
       "\n",
       "   Order Date Region  Sales  Discount  Profit       State  \n",
       "0  11-08-2017  North   1254      0.12  401.28  Tamil Nadu  \n",
       "1  11-08-2017  South    749      0.18  149.80  Tamil Nadu  \n",
       "2  06-12-2017   West   2360      0.21  165.20  Tamil Nadu  \n",
       "3  10-11-2016  South    896      0.25   89.60  Tamil Nadu  \n",
       "4  10-11-2016  South   2355      0.26  918.45  Tamil Nadu  "
      ]
     },
     "execution_count": 5,
     "metadata": {},
     "output_type": "execute_result"
    }
   ],
   "source": [
    "#importing dataset\n",
    "df=pd.read_csv('E:\\\\cmg data\\\\Supermart Grocery Sales - Retail Analytics Dataset.csv')\n",
    "df.head()"
   ]
  },
  {
   "cell_type": "code",
   "execution_count": 6,
   "id": "e619f51d",
   "metadata": {},
   "outputs": [
    {
     "name": "stdout",
     "output_type": "stream",
     "text": [
      "(9994, 11)\n",
      "Index(['Order ID', 'Customer Name', 'Category', 'Sub Category', 'City',\n",
      "       'Order Date', 'Region', 'Sales', 'Discount', 'Profit', 'State'],\n",
      "      dtype='object')\n"
     ]
    },
    {
     "data": {
      "text/plain": [
       "West       3203\n",
       "East       2848\n",
       "Central    2323\n",
       "South      1619\n",
       "North         1\n",
       "Name: Region, dtype: int64"
      ]
     },
     "execution_count": 6,
     "metadata": {},
     "output_type": "execute_result"
    }
   ],
   "source": [
    "print(df.shape)#size of data frame\n",
    "print(df.columns) # checking which columns are\n",
    "df['Region'].value_counts()#determining total data regionvise"
   ]
  },
  {
   "cell_type": "code",
   "execution_count": 7,
   "id": "2fa1066d",
   "metadata": {},
   "outputs": [
    {
     "name": "stdout",
     "output_type": "stream",
     "text": [
      "Order ID\n",
      "['OD1' 'OD2' 'OD3' ... 'OD9992' 'OD9993' 'OD9994']\n",
      "--------------------------------------------------\n",
      "Customer Name\n",
      "['Harish' 'Sudha' 'Hussain' 'Jackson' 'Ridhesh' 'Adavan' 'Jonas' 'Hafiz'\n",
      " 'Krithika' 'Ganesh' 'Yadav' 'Sharon' 'Peer' 'Sundar' 'Ramesh' 'Alan'\n",
      " 'Arutra' 'Haseena' 'Verma' 'Muneer' 'Veronica' 'Shah' 'Mathew' 'Akash'\n",
      " 'Anu' 'Sabeela' 'James' 'Willams' 'Malik' 'Amrish' 'Vince' 'Suresh'\n",
      " 'Esther' 'Yusuf' 'Komal' 'Veena' 'Shree' 'Roshan' 'Sudeep' 'Vinne'\n",
      " 'Vidya' 'Arvind' 'Kumar' 'Amy' 'Ravi' 'Sheeba' 'Ram' 'Rumaiza' 'Aditi'\n",
      " 'Surya']\n",
      "--------------------------------------------------\n",
      "Category\n",
      "['Oil & Masala' 'Beverages' 'Food Grains' 'Fruits & Veggies' 'Bakery'\n",
      " 'Snacks' 'Eggs, Meat & Fish']\n",
      "--------------------------------------------------\n",
      "Sub Category\n",
      "['Masalas' 'Health Drinks' 'Atta & Flour' 'Fresh Vegetables'\n",
      " 'Organic Staples' 'Fresh Fruits' 'Biscuits' 'Cakes' 'Chocolates' 'Eggs'\n",
      " 'Cookies' 'Chicken' 'Edible Oil & Ghee' 'Mutton' 'Soft Drinks'\n",
      " 'Dals & Pulses' 'Organic Vegetables' 'Noodles' 'Organic Fruits' 'Fish'\n",
      " 'Spices' 'Rice' 'Breads & Buns']\n",
      "--------------------------------------------------\n",
      "City\n",
      "['Vellore' 'Krishnagiri' 'Perambalur' 'Dharmapuri' 'Ooty' 'Trichy'\n",
      " 'Ramanadhapuram' 'Tirunelveli' 'Chennai' 'Karur' 'Namakkal' 'Dindigul'\n",
      " 'Kanyakumari' 'Bodi' 'Tenkasi' 'Viluppuram' 'Madurai' 'Salem' 'Cumbum'\n",
      " 'Nagercoil' 'Pudukottai' 'Theni' 'Coimbatore' 'Virudhunagar']\n",
      "--------------------------------------------------\n",
      "Order Date\n",
      "['11-08-2017' '06-12-2017' '10-11-2016' ... '3/16/2015' '8/29/2016'\n",
      " '04-06-2017']\n",
      "--------------------------------------------------\n",
      "Region\n",
      "['North' 'South' 'West' 'Central' 'East']\n",
      "--------------------------------------------------\n",
      "State\n",
      "['Tamil Nadu']\n",
      "--------------------------------------------------\n"
     ]
    }
   ],
   "source": [
    "#checking what  column contain\n",
    "for col in df.describe(include='object').columns:\n",
    "    print(col)\n",
    "    print(df[col].unique())\n",
    "    print('-'*50)"
   ]
  },
  {
   "cell_type": "code",
   "execution_count": 8,
   "id": "8a1c71a0",
   "metadata": {},
   "outputs": [],
   "source": [
    "df.drop(['Order ID','State'],axis='columns', inplace=True)"
   ]
  },
  {
   "cell_type": "code",
   "execution_count": 9,
   "id": "32565935",
   "metadata": {},
   "outputs": [
    {
     "name": "stdout",
     "output_type": "stream",
     "text": [
      "<class 'pandas.core.frame.DataFrame'>\n",
      "RangeIndex: 9994 entries, 0 to 9993\n",
      "Data columns (total 9 columns):\n",
      " #   Column         Non-Null Count  Dtype  \n",
      "---  ------         --------------  -----  \n",
      " 0   Customer Name  9994 non-null   object \n",
      " 1   Category       9994 non-null   object \n",
      " 2   Sub Category   9994 non-null   object \n",
      " 3   City           9994 non-null   object \n",
      " 4   Order Date     9994 non-null   object \n",
      " 5   Region         9994 non-null   object \n",
      " 6   Sales          9994 non-null   int64  \n",
      " 7   Discount       9994 non-null   float64\n",
      " 8   Profit         9994 non-null   float64\n",
      "dtypes: float64(2), int64(1), object(6)\n",
      "memory usage: 702.8+ KB\n",
      "Customer Name    0\n",
      "Category         0\n",
      "Sub Category     0\n",
      "City             0\n",
      "Order Date       0\n",
      "Region           0\n",
      "Sales            0\n",
      "Discount         0\n",
      "Profit           0\n",
      "dtype: int64\n"
     ]
    }
   ],
   "source": [
    "df.info() #use to know data type and nan values(there's other way to check also)\n",
    "print(df.isnull().sum())"
   ]
  },
  {
   "cell_type": "code",
   "execution_count": 10,
   "id": "9f94662c",
   "metadata": {},
   "outputs": [
    {
     "name": "stdout",
     "output_type": "stream",
     "text": [
      "<class 'pandas.core.frame.DataFrame'>\n",
      "RangeIndex: 9994 entries, 0 to 9993\n",
      "Data columns (total 9 columns):\n",
      " #   Column         Non-Null Count  Dtype         \n",
      "---  ------         --------------  -----         \n",
      " 0   Customer Name  9994 non-null   object        \n",
      " 1   Category       9994 non-null   object        \n",
      " 2   Sub Category   9994 non-null   object        \n",
      " 3   City           9994 non-null   object        \n",
      " 4   Order Date     9994 non-null   datetime64[ns]\n",
      " 5   Region         9994 non-null   object        \n",
      " 6   Sales          9994 non-null   int64         \n",
      " 7   Discount       9994 non-null   float64       \n",
      " 8   Profit         9994 non-null   float64       \n",
      "dtypes: datetime64[ns](1), float64(2), int64(1), object(5)\n",
      "memory usage: 702.8+ KB\n"
     ]
    }
   ],
   "source": [
    "df['Order Date']=pd.to_datetime(df['Order Date'])\n",
    "df.info()"
   ]
  },
  {
   "cell_type": "code",
   "execution_count": 11,
   "id": "a4bcb371",
   "metadata": {},
   "outputs": [
    {
     "data": {
      "text/plain": [
       "<AxesSubplot:xlabel='Profit'>"
      ]
     },
     "execution_count": 11,
     "metadata": {},
     "output_type": "execute_result"
    },
    {
     "data": {
      "image/png": "[encoded data removed]",
      "text/plain": [
       "<Figure size 360x432 with 1 Axes>"
      ]
     },
     "metadata": {
      "needs_background": "light"
     },
     "output_type": "display_data"
    }
   ],
   "source": [
    "sns.boxplot(df['Profit'])"
   ]
  },
  {
   "cell_type": "code",
   "execution_count": 12,
   "id": "850b345f",
   "metadata": {},
   "outputs": [
    {
     "data": {
      "image/png": "[encoded data removed]",
      "text/plain": [
       "<Figure size 360x432 with 1 Axes>"
      ]
     },
     "metadata": {
      "needs_background": "light"
     },
     "output_type": "display_data"
    },
    {
     "data": {
      "image/png": "[encoded data removed]",
      "text/plain": [
       "<Figure size 360x432 with 1 Axes>"
      ]
     },
     "metadata": {
      "needs_background": "light"
     },
     "output_type": "display_data"
    }
   ],
   "source": [
    "vars=['Profit','Discount']\n",
    "for i in vars:\n",
    "    plt.figure()\n",
    "    sns.boxplot(data=df,x='Region',y=df[i])"
   ]
  },
  {
   "cell_type": "code",
   "execution_count": 13,
   "id": "616aa006",
   "metadata": {},
   "outputs": [
    {
     "data": {
      "image/png": "[encoded data removed]",
      "text/plain": [
       "<Figure size 864x864 with 1 Axes>"
      ]
     },
     "metadata": {
      "needs_background": "light"
     },
     "output_type": "display_data"
    }
   ],
   "source": [
    "plt.figure(figsize=(12,12))\n",
    "axl=sns.countplot(x='Region',hue='Category',data=df,palette='bright')\n",
    "legend_label,_=axl.get_legend_handles_labels()\n",
    "#axl.legend(bbox_to_anchor(1,1))\n",
    "plt.title('profit in diffrent region',size=20)\n",
    "plt.xlabel('Region')\n",
    "plt.ylabel('total')\n",
    "#plt.legend(['Oil & Masala','Beverages','Food Grains','Fruit&Veggies','Bakery','Snacks','Eggs','Meat & Fish'])\n",
    "plt.show()"
   ]
  },
  {
   "cell_type": "code",
   "execution_count": 15,
   "id": "2b4b8cc5",
   "metadata": {},
   "outputs": [
    {
     "data": {
      "text/plain": [
       "<AxesSubplot:xlabel='Profit', ylabel='Count'>"
      ]
     },
     "execution_count": 15,
     "metadata": {},
     "output_type": "execute_result"
    },
    {
     "data": {
      "image/png": "[encoded data removed]",
      "text/plain": [
       "<Figure size 360x432 with 1 Axes>"
      ]
     },
     "metadata": {
      "needs_background": "light"
     },
     "output_type": "display_data"
    }
   ],
   "source": [
    "sns.histplot(df['Profit'],kde=True)"
   ]
  },
  {
   "cell_type": "code",
   "execution_count": 16,
   "id": "50b2df0d",
   "metadata": {},
   "outputs": [
    {
     "data": {
      "text/plain": [
       "<AxesSubplot:xlabel='Profit', ylabel='Density'>"
      ]
     },
     "execution_count": 16,
     "metadata": {},
     "output_type": "execute_result"
    },
    {
     "data": {
      "image/png": "[encoded data removed]",
      "text/plain": [
       "<Figure size 360x432 with 1 Axes>"
      ]
     },
     "metadata": {
      "needs_background": "light"
     },
     "output_type": "display_data"
    }
   ],
   "source": [
    "sns.kdeplot(df['Profit'],shade=True,hue=df['Region'])"
   ]
  },
  {
   "cell_type": "code",
   "execution_count": null,
   "id": "630976fe",
   "metadata": {},
   "outputs": [],
   "source": [
    "#according to above plot profit is high in western region and there's no suspisious outline, data is not normally distribute as more data lie towards right side"
   ]
  },
  {
   "cell_type": "code",
   "execution_count": 18,
   "id": "13fda9d1",
   "metadata": {},
   "outputs": [
    {
     "data": {
      "image/png": "[encoded data removed]",
      "text/plain": [
       "<Figure size 1152x576 with 1 Axes>"
      ]
     },
     "metadata": {},
     "output_type": "display_data"
    }
   ],
   "source": [
    "\n",
    "top_3_region=df[['Region']].value_counts()[:3]\n",
    "plt.figure(figsize=(16,8))\n",
    "plt.pie(top_3_region,autopct='%.2f',labels=top_3_region.index)\n",
    "plt.title('top 3 region',size=20)\n",
    "plt.show()\n"
   ]
  },
  {
   "cell_type": "code",
   "execution_count": 5,
   "id": "49a819d3",
   "metadata": {},
   "outputs": [
    {
     "data": {
      "text/html": [
       "<div>\n",
       "<style scoped>\n",
       "    .dataframe tbody tr th:only-of-type {\n",
       "        vertical-align: middle;\n",
       "    }\n",
       "\n",
       "    .dataframe tbody tr th {\n",
       "        vertical-align: top;\n",
       "    }\n",
       "\n",
       "    .dataframe thead th {\n",
       "        text-align: right;\n",
       "    }\n",
       "</style>\n",
       "<table border=\"1\" class=\"dataframe\">\n",
       "  <thead>\n",
       "    <tr style=\"text-align: right;\">\n",
       "      <th></th>\n",
       "      <th>index</th>\n",
       "      <th>Order ID</th>\n",
       "      <th>Cust ID</th>\n",
       "      <th>Gender</th>\n",
       "      <th>Age</th>\n",
       "      <th>Date</th>\n",
       "      <th>Status</th>\n",
       "      <th>Channel</th>\n",
       "      <th>SKU</th>\n",
       "      <th>Category</th>\n",
       "      <th>Size</th>\n",
       "      <th>Qty</th>\n",
       "      <th>currency</th>\n",
       "      <th>Amount</th>\n",
       "      <th>ship-city</th>\n",
       "      <th>ship-state</th>\n",
       "      <th>ship-postal-code</th>\n",
       "      <th>ship-country</th>\n",
       "      <th>B2B</th>\n",
       "    </tr>\n",
       "  </thead>\n",
       "  <tbody>\n",
       "    <tr>\n",
       "      <th>0</th>\n",
       "      <td>1</td>\n",
       "      <td>171-1029312-3038738</td>\n",
       "      <td>1029312</td>\n",
       "      <td>Women</td>\n",
       "      <td>44</td>\n",
       "      <td>2022-12-04</td>\n",
       "      <td>Delivered</td>\n",
       "      <td>Myntra</td>\n",
       "      <td>JNE1233-BLUE-KR-031-XXL</td>\n",
       "      <td>kurta</td>\n",
       "      <td>XXL</td>\n",
       "      <td>1</td>\n",
       "      <td>INR</td>\n",
       "      <td>376</td>\n",
       "      <td>MOHALI</td>\n",
       "      <td>PUNJAB</td>\n",
       "      <td>140301</td>\n",
       "      <td>IN</td>\n",
       "      <td>False</td>\n",
       "    </tr>\n",
       "    <tr>\n",
       "      <th>1</th>\n",
       "      <td>2</td>\n",
       "      <td>405-2183842-2225946</td>\n",
       "      <td>2183842</td>\n",
       "      <td>Women</td>\n",
       "      <td>29</td>\n",
       "      <td>2022-12-04</td>\n",
       "      <td>Delivered</td>\n",
       "      <td>Ajio</td>\n",
       "      <td>SET414-KR-NP-L</td>\n",
       "      <td>Set</td>\n",
       "      <td>L</td>\n",
       "      <td>1</td>\n",
       "      <td>INR</td>\n",
       "      <td>1449</td>\n",
       "      <td>GURUGRAM</td>\n",
       "      <td>HARYANA</td>\n",
       "      <td>122002</td>\n",
       "      <td>IN</td>\n",
       "      <td>False</td>\n",
       "    </tr>\n",
       "    <tr>\n",
       "      <th>2</th>\n",
       "      <td>3</td>\n",
       "      <td>171-1641533-8921966</td>\n",
       "      <td>1641533</td>\n",
       "      <td>Women</td>\n",
       "      <td>67</td>\n",
       "      <td>2022-12-04</td>\n",
       "      <td>Delivered</td>\n",
       "      <td>Myntra</td>\n",
       "      <td>SET261-KR-PP-S</td>\n",
       "      <td>Set</td>\n",
       "      <td>S</td>\n",
       "      <td>1</td>\n",
       "      <td>INR</td>\n",
       "      <td>453</td>\n",
       "      <td>KOLKATA</td>\n",
       "      <td>WEST BENGAL</td>\n",
       "      <td>700029</td>\n",
       "      <td>IN</td>\n",
       "      <td>False</td>\n",
       "    </tr>\n",
       "    <tr>\n",
       "      <th>3</th>\n",
       "      <td>4</td>\n",
       "      <td>404-7490807-6300351</td>\n",
       "      <td>7490807</td>\n",
       "      <td>Women</td>\n",
       "      <td>20</td>\n",
       "      <td>2022-12-04</td>\n",
       "      <td>Delivered</td>\n",
       "      <td>Amazon</td>\n",
       "      <td>SET110-KR-PP-M</td>\n",
       "      <td>Set</td>\n",
       "      <td>M</td>\n",
       "      <td>1</td>\n",
       "      <td>INR</td>\n",
       "      <td>729</td>\n",
       "      <td>THANJAVUR</td>\n",
       "      <td>TAMIL NADU</td>\n",
       "      <td>613007</td>\n",
       "      <td>IN</td>\n",
       "      <td>False</td>\n",
       "    </tr>\n",
       "    <tr>\n",
       "      <th>4</th>\n",
       "      <td>5</td>\n",
       "      <td>403-9293516-4577154</td>\n",
       "      <td>9293516</td>\n",
       "      <td>Women</td>\n",
       "      <td>62</td>\n",
       "      <td>2022-12-04</td>\n",
       "      <td>Delivered</td>\n",
       "      <td>Myntra</td>\n",
       "      <td>JNE2294-KR-A-XXL</td>\n",
       "      <td>kurta</td>\n",
       "      <td>XXL</td>\n",
       "      <td>1</td>\n",
       "      <td>INR</td>\n",
       "      <td>544</td>\n",
       "      <td>GURUGRAM</td>\n",
       "      <td>HARYANA</td>\n",
       "      <td>122001</td>\n",
       "      <td>IN</td>\n",
       "      <td>False</td>\n",
       "    </tr>\n",
       "  </tbody>\n",
       "</table>\n",
       "</div>"
      ],
      "text/plain": [
       "   index             Order ID  Cust ID Gender  Age       Date     Status  \\\n",
       "0      1  171-1029312-3038738  1029312  Women   44 2022-12-04  Delivered   \n",
       "1      2  405-2183842-2225946  2183842  Women   29 2022-12-04  Delivered   \n",
       "2      3  171-1641533-8921966  1641533  Women   67 2022-12-04  Delivered   \n",
       "3      4  404-7490807-6300351  7490807  Women   20 2022-12-04  Delivered   \n",
       "4      5  403-9293516-4577154  9293516  Women   62 2022-12-04  Delivered   \n",
       "\n",
       "  Channel                       SKU Category Size Qty currency  Amount  \\\n",
       "0   Myntra  JNE1233-BLUE-KR-031-XXL    kurta  XXL   1      INR     376   \n",
       "1     Ajio           SET414-KR-NP-L      Set    L   1      INR    1449   \n",
       "2   Myntra           SET261-KR-PP-S      Set    S   1      INR     453   \n",
       "3   Amazon           SET110-KR-PP-M      Set    M   1      INR     729   \n",
       "4   Myntra         JNE2294-KR-A-XXL    kurta  XXL   1      INR     544   \n",
       "\n",
       "   ship-city   ship-state  ship-postal-code ship-country    B2B  \n",
       "0     MOHALI       PUNJAB            140301           IN  False  \n",
       "1   GURUGRAM      HARYANA            122002           IN  False  \n",
       "2    KOLKATA  WEST BENGAL            700029           IN  False  \n",
       "3  THANJAVUR   TAMIL NADU            613007           IN  False  \n",
       "4   GURUGRAM      HARYANA            122001           IN  False  "
      ]
     },
     "execution_count": 5,
     "metadata": {},
     "output_type": "execute_result"
    }
   ],
   "source": [
    "df=pd.read_excel('C://Users//dell//Downloads//excel dash board and power query\\\\Vrinda Store Data Analysis.xlsx','Vrinda Store')\n",
    "df.head()"
   ]
  },
  {
   "cell_type": "code",
   "execution_count": 26,
   "id": "e70d2fca",
   "metadata": {},
   "outputs": [],
   "source": [
    "df.loc[df['Gender'].isin(['Men','M']),'gender']='Men'\n",
    "df.loc[df['Gender'].isin(['Women','W']),'gender']='Women'\n",
    "df['Qty'].mask(df['Qty']=='One',1,inplace=True)\n",
    "df['Qty'].mask(df['Qty']=='Two',2,inplace=True)\n",
    "df.loc[df['Age']<=30,'age_group']='teenager'\n",
    "df.loc[(df['Age']>30) & (df['Age']<50),'age_group']='adult'   #creating conditoon column\n",
    "df.loc[df['Age']>=50,'age_group']='older'"
   ]
  },
  {
   "cell_type": "code",
   "execution_count": 27,
   "id": "9022e292",
   "metadata": {},
   "outputs": [],
   "source": [
    "df['Qty']=df['Qty'].apply(pd.to_numeric)\n",
    "df['year']=pd.DatetimeIndex(df['Date']).year\n",
    "df['revenue']=df['Amount']*df['Qty']"
   ]
  },
  {
   "cell_type": "code",
   "execution_count": 28,
   "id": "4608f2b2",
   "metadata": {},
   "outputs": [],
   "source": [
    "df['month']=df['Date'].apply(lambda x:x.strftime('%B-%Y'))\n"
   ]
  },
  {
   "cell_type": "code",
   "execution_count": 29,
   "id": "61485abc",
   "metadata": {},
   "outputs": [
    {
     "name": "stdout",
     "output_type": "stream",
     "text": [
      "Order ID\n",
      "['171-1029312-3038738' '405-2183842-2225946' '171-1641533-8921966' ...\n",
      " '408-3572295-5992330' '405-1423498-9705162' '408-4694875-8249153']\n",
      "--------------------------------------------------\n",
      "Gender\n",
      "['Women' 'Men' 'W' 'M']\n",
      "--------------------------------------------------\n",
      "Status\n",
      "['Delivered' 'Refunded' 'Cancelled' 'Returned']\n",
      "--------------------------------------------------\n",
      "Channel \n",
      "['Myntra' 'Ajio' 'Amazon' 'Flipkart' 'Meesho' 'Others' 'Nalli']\n",
      "--------------------------------------------------\n",
      "SKU\n",
      "['JNE1233-BLUE-KR-031-XXL' 'SET414-KR-NP-L' 'SET261-KR-PP-S' ...\n",
      " 'J0090-TP-M' 'JNE3427-KR-XXL' 'J0051-KR-S']\n",
      "--------------------------------------------------\n",
      "Category\n",
      "['kurta' 'Set' 'Western Dress' 'Top' 'Saree' 'Blouse' 'Ethnic Dress'\n",
      " 'Bottom']\n",
      "--------------------------------------------------\n",
      "Size\n",
      "['XXL' 'L' 'S' 'M' 'XL' 'XS' '3XL' 'Free' '6XL' '4XL' '5XL']\n",
      "--------------------------------------------------\n",
      "currency\n",
      "['INR']\n",
      "--------------------------------------------------\n",
      "ship-city\n",
      "['MOHALI' 'GURUGRAM' 'KOLKATA' ... 'North 24 parganas' 'DIPHU'\n",
      " 'VILE BHAGAD MIDC']\n",
      "--------------------------------------------------\n",
      "ship-state\n",
      "['PUNJAB' 'HARYANA' 'WEST BENGAL' 'TAMIL NADU' 'MAHARASHTRA' 'KARNATAKA'\n",
      " 'ANDHRA PRADESH' 'KERALA' 'ASSAM' 'TELANGANA' 'DELHI' 'ODISHA'\n",
      " 'RAJASTHAN' 'UTTAR PRADESH' 'MADHYA PRADESH' 'UTTARAKHAND'\n",
      " 'ANDAMAN & NICOBAR ' 'GUJARAT' 'CHANDIGARH' 'JHARKHAND' 'BIHAR'\n",
      " 'HIMACHAL PRADESH' 'PUDUCHERRY' 'DADRA AND NAGAR' 'SIKKIM' 'GOA'\n",
      " 'ARUNACHAL PRADESH' 'MANIPUR' 'JAMMU & KASHMIR' 'TRIPURA' 'New Delhi'\n",
      " 'CHHATTISGARH' 'Bihar' 'LADAKH' 'MEGHALAYA' 'NAGALAND' 'MIZORAM' 'goa'\n",
      " 'Punjab' 'Delhi' 'Nagaland' 'delhi' 'Goa' 'Chandigarh' 'punjab'\n",
      " 'Arunachal Pradesh' 'bihar' 'Manipur' 'Sikkim' 'Arunachal pradesh']\n",
      "--------------------------------------------------\n",
      "ship-country\n",
      "['IN']\n",
      "--------------------------------------------------\n",
      "gender\n",
      "['Women' 'Men']\n",
      "--------------------------------------------------\n",
      "age_group\n",
      "['adult' 'teenager' 'older']\n",
      "--------------------------------------------------\n",
      "month\n",
      "['December-2022' 'November-2022' 'October-2022' 'September-2022'\n",
      " 'August-2022' 'July-2022' 'June-2022' 'May-2022' 'April-2022'\n",
      " 'March-2022' 'February-2022' 'January-2022']\n",
      "--------------------------------------------------\n"
     ]
    }
   ],
   "source": [
    "for col in df.describe(include='object').columns:\n",
    "    print(col)\n",
    "    print(df[col].unique())\n",
    "    print('-'*50)"
   ]
  },
  {
   "cell_type": "code",
   "execution_count": null,
   "id": "8c723ace",
   "metadata": {},
   "outputs": [],
   "source": [
    "sns.distplot(data=df,x=df['age'],col=df['gender'],kde=True)"
   ]
  },
  {
   "cell_type": "code",
   "execution_count": null,
   "id": "7c816ebd",
   "metadata": {},
   "outputs": [],
   "source": [
    "plt.bar(['Delivered','Refunded','Cancelled','Returned'],df[['Status']].value_counts())"
   ]
  },
  {
   "cell_type": "code",
   "execution_count": 35,
   "id": "e5e4364b",
   "metadata": {},
   "outputs": [
    {
     "data": {
      "text/plain": [
       "<AxesSubplot:xlabel='revenue'>"
      ]
     },
     "execution_count": 35,
     "metadata": {},
     "output_type": "execute_result"
    },
    {
     "data": {
      "image/png": "[encoded data removed]",
      "text/plain": [
       "<Figure size 360x432 with 1 Axes>"
      ]
     },
     "metadata": {
      "needs_background": "light"
     },
     "output_type": "display_data"
    }
   ],
   "source": [
    "sns.boxplot(df['revenue'])"
   ]
  },
  {
   "cell_type": "code",
   "execution_count": null,
   "id": "9a01fcea",
   "metadata": {},
   "outputs": [],
   "source": []
  }
 ],
 "metadata": {
  "kernelspec": {
   "display_name": "Python 3 (ipykernel)",
   "language": "python",
   "name": "python3"
  },
  "language_info": {
   "codemirror_mode": {
    "name": "ipython",
    "version": 3
   },
   "file_extension": ".py",
   "mimetype": "text/x-python",
   "name": "python",
   "nbconvert_exporter": "python",
   "pygments_lexer": "ipython3",
   "version": "3.10.5"
  }
 },
 "nbformat": 4,
 "nbformat_minor": 5
}
